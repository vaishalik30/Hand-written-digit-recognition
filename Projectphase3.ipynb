{
  "nbformat": 4,
  "nbformat_minor": 0,
  "metadata": {
    "colab": {
      "name": "Project3.ipynb",
      "version": "0.3.2",
      "provenance": [],
      "collapsed_sections": []
    },
    "kernelspec": {
      "name": "python3",
      "display_name": "Python 3"
    }
  },
  "cells": [
    {
      "cell_type": "markdown",
      "metadata": {
        "id": "Arz6jGkS_m0F",
        "colab_type": "text"
      },
      "source": [
        "# Training the model"
      ]
    },
    {
      "cell_type": "code",
      "metadata": {
        "id": "PojeSaFuQWcT",
        "colab_type": "code",
        "outputId": "888a3b1e-4db5-4a78-bc80-18568abecb8b",
        "colab": {
          "base_uri": "https://localhost:8080/",
          "height": 228
        }
      },
      "source": [
        "#extra connected layer and extended dataset EMNIST\n",
        "\n",
        "from __future__ import print_function\n",
        "import keras\n",
        "from keras.models import Sequential\n",
        "from keras.layers import Dense, Dropout, Flatten\n",
        "from keras.layers import Conv2D, MaxPooling2D\n",
        "from keras import backend as K\n",
        "import numpy\n",
        "import emnist_loader\n",
        "\n",
        "training_set, validation_set, test_set = emnist_loader.load_data()\n",
        "\n",
        "\n",
        "(x_train, y_train) = training_set\n",
        "(x_val,y_val)= validation_set\n",
        "(x_test, y_test) = test_set\n",
        "\n",
        "\n",
        "batch_size = 128\n",
        "num_classes = 27\n",
        "epochs = 10\n",
        "\n",
        "# input image dimensions\n",
        "img_rows, img_cols = 28, 28\n",
        "\n",
        "if K.image_data_format() == 'channels_first':\n",
        "    x_train = x_train.reshape(x_train.shape[0], 1, img_rows, img_cols)\n",
        "    x_test = x_test.reshape(x_test.shape[0], 1, img_rows, img_cols)\n",
        "    x_val = x_val.reshape(x_val.shape[0], 1, img_rows, img_cols)\n",
        "    input_shape = (1, img_rows, img_cols)\n",
        "else:\n",
        "    x_train = x_train.reshape(x_train.shape[0], img_rows, img_cols, 1)\n",
        "    x_test = x_test.reshape(x_test.shape[0], img_rows, img_cols, 1)\n",
        "    x_val = x_val.reshape(x_val.shape[0], img_rows, img_cols, 1)\n",
        "    input_shape = (img_rows, img_cols, 1)\n",
        "    \n",
        "'''    \n",
        "from keras.preprocessing.image import ImageDataGenerator\n",
        "X_train2 = numpy.array(x_train, copy=True) \n",
        "y_train2 = numpy.array(y_train, copy=True) \n",
        "datagen = ImageDataGenerator(\n",
        "    featurewise_center=True,\n",
        "    featurewise_std_normalization=True,\n",
        "    rotation_range=20,\n",
        "    )'''\n",
        "\n",
        "\n",
        "#datagen.fit(x_train)\n",
        "#result_x  = numpy.concatenate((x_train, X_train2), axis=0)\n",
        "#result_y  = numpy.concatenate((y_train, y_train2), axis=0) \n",
        "\n",
        "\n",
        "\n",
        "#x_train = result_x.astype('float32')\n",
        "x_train = x_train.astype('float32')\n",
        "\n",
        "x_test = x_test.astype('float32')\n",
        "x_val = x_val.astype('float32')\n",
        "\n",
        "x_train /= 255\n",
        "x_test /= 255\n",
        "x_val /= 255\n",
        "print('x_train shape:', x_train.shape)\n",
        "print(x_train.shape[0], 'train samples')\n",
        "print(x_test.shape[0], 'test samples')\n",
        "\n",
        "# convert class vectors to binary class matrices\n",
        "y_train = keras.utils.to_categorical(y_train, num_classes)\n",
        "y_test = keras.utils.to_categorical(y_test, num_classes)\n",
        "y_val = keras.utils.to_categorical(y_val, num_classes)\n",
        "\n",
        "model = Sequential()\n",
        "model.add(Conv2D(32, kernel_size=(3, 3),\n",
        "                 activation='relu',\n",
        "                 input_shape=input_shape))\n",
        "model.add(Conv2D(64, (3, 3), activation='relu'))\n",
        "model.add(MaxPooling2D(pool_size=(2, 2)))\n",
        "model.add(Dropout(0.25))\n",
        "model.add(Flatten())\n",
        "model.add(Dense(1000, activation='relu'))\n",
        "model.add(Dropout(0.5))\n",
        "model.add(Dense(1000, activation='relu'))\n",
        "model.add(Dropout(0.5))\n",
        "model.add(Dense(num_classes, activation='softmax'))\n",
        "\n",
        "model.compile(loss=keras.losses.categorical_crossentropy,\n",
        "              optimizer=keras.optimizers.Adadelta(),\n",
        "              metrics=['accuracy'])\n",
        "'''\n",
        "model.fit(x_train, y_train,\n",
        "          batch_size=batch_size,\n",
        "          epochs=epochs,\n",
        "          verbose=1,\n",
        "          validation_data=(x_val, y_val))\n",
        "score = model.evaluate(x_test, y_test, verbose=0)\n",
        "print('Test loss:', score[0])\n",
        "print('Test accuracy:', score[1])\n",
        "'''"
      ],
      "execution_count": 0,
      "outputs": [
        {
          "output_type": "stream",
          "text": [
            "Using TensorFlow backend.\n"
          ],
          "name": "stderr"
        },
        {
          "output_type": "stream",
          "text": [
            "x_train shape: (104000, 28, 28, 1)\n",
            "104000 train samples\n",
            "20800 test samples\n",
            "WARNING:tensorflow:From /usr/local/lib/python3.6/dist-packages/tensorflow/python/framework/op_def_library.py:263: colocate_with (from tensorflow.python.framework.ops) is deprecated and will be removed in a future version.\n",
            "Instructions for updating:\n",
            "Colocations handled automatically by placer.\n",
            "WARNING:tensorflow:From /usr/local/lib/python3.6/dist-packages/keras/backend/tensorflow_backend.py:3445: calling dropout (from tensorflow.python.ops.nn_ops) with keep_prob is deprecated and will be removed in a future version.\n",
            "Instructions for updating:\n",
            "Please use `rate` instead of `keep_prob`. Rate should be set to `rate = 1 - keep_prob`.\n"
          ],
          "name": "stdout"
        },
        {
          "output_type": "execute_result",
          "data": {
            "text/plain": [
              "\"\\nmodel.fit(x_train, y_train,\\n          batch_size=batch_size,\\n          epochs=epochs,\\n          verbose=1,\\n          validation_data=(x_val, y_val))\\nscore = model.evaluate(x_test, y_test, verbose=0)\\nprint('Test loss:', score[0])\\nprint('Test accuracy:', score[1])\\n\""
            ]
          },
          "metadata": {
            "tags": []
          },
          "execution_count": 1
        }
      ]
    },
    {
      "cell_type": "markdown",
      "metadata": {
        "id": "1AZiwsiz_8go",
        "colab_type": "text"
      },
      "source": [
        "## Visualizing the output"
      ]
    },
    {
      "cell_type": "code",
      "metadata": {
        "id": "ky5HPkI14_Xd",
        "colab_type": "code",
        "outputId": "8caeb9ca-0269-4d2e-a8d5-e6ae22164be3",
        "colab": {
          "base_uri": "https://localhost:8080/",
          "height": 1009
        }
      },
      "source": [
        "import matplotlib.pyplot as plt\n",
        "\n",
        "history = model.fit(x_train, y_train,\n",
        "          batch_size=batch_size,\n",
        "          epochs=epochs,\n",
        "          verbose=1,\n",
        "          validation_data=(x_val, y_val))\n",
        "\n",
        "# Plot training & validation accuracy values\n",
        "plt.plot(history.history['acc'])\n",
        "plt.plot(history.history['val_acc'])\n",
        "plt.title('Model accuracy')\n",
        "plt.ylabel('Accuracy')\n",
        "plt.xlabel('Epoch')\n",
        "plt.legend(['Train', 'Val'], loc='upper left')\n",
        "plt.show()\n",
        "\n",
        "# Plot training & validation loss values\n",
        "plt.plot(history.history['loss'])\n",
        "plt.plot(history.history['val_loss'])\n",
        "plt.title('Model loss')\n",
        "plt.ylabel('Loss')\n",
        "plt.xlabel('Epoch')\n",
        "plt.legend(['Train', 'Val'], loc='upper left')\n",
        "plt.show()"
      ],
      "execution_count": 0,
      "outputs": [
        {
          "output_type": "stream",
          "text": [
            "WARNING:tensorflow:From /usr/local/lib/python3.6/dist-packages/tensorflow/python/ops/math_ops.py:3066: to_int32 (from tensorflow.python.ops.math_ops) is deprecated and will be removed in a future version.\n",
            "Instructions for updating:\n",
            "Use tf.cast instead.\n",
            "Train on 104000 samples, validate on 20800 samples\n",
            "Epoch 1/10\n",
            "104000/104000 [==============================] - 514s 5ms/step - loss: 0.6987 - acc: 0.7832 - val_loss: 0.2739 - val_acc: 0.9090\n",
            "Epoch 2/10\n",
            "104000/104000 [==============================] - 512s 5ms/step - loss: 0.3088 - acc: 0.8993 - val_loss: 0.2247 - val_acc: 0.9268\n",
            "Epoch 3/10\n",
            "104000/104000 [==============================] - 511s 5ms/step - loss: 0.2521 - acc: 0.9163 - val_loss: 0.2069 - val_acc: 0.9320\n",
            "Epoch 4/10\n",
            "104000/104000 [==============================] - 510s 5ms/step - loss: 0.2171 - acc: 0.9274 - val_loss: 0.1929 - val_acc: 0.9367\n",
            "Epoch 5/10\n",
            "104000/104000 [==============================] - 509s 5ms/step - loss: 0.1946 - acc: 0.9344 - val_loss: 0.2031 - val_acc: 0.9305\n",
            "Epoch 6/10\n",
            "104000/104000 [==============================] - 509s 5ms/step - loss: 0.1769 - acc: 0.9396 - val_loss: 0.1870 - val_acc: 0.9398\n",
            "Epoch 7/10\n",
            "104000/104000 [==============================] - 509s 5ms/step - loss: 0.1623 - acc: 0.9432 - val_loss: 0.1853 - val_acc: 0.9415\n",
            "Epoch 8/10\n",
            "104000/104000 [==============================] - 508s 5ms/step - loss: 0.1479 - acc: 0.9476 - val_loss: 0.1813 - val_acc: 0.9437\n",
            "Epoch 9/10\n",
            "104000/104000 [==============================] - 508s 5ms/step - loss: 0.1406 - acc: 0.9496 - val_loss: 0.1880 - val_acc: 0.9422\n",
            "Epoch 10/10\n",
            "104000/104000 [==============================] - 510s 5ms/step - loss: 0.1316 - acc: 0.9524 - val_loss: 0.1896 - val_acc: 0.9434\n"
          ],
          "name": "stdout"
        },
        {
          "output_type": "display_data",
          "data": {
            "image/png": "[encoded data removed]",
            "text/plain": [
              "<Figure size 432x288 with 1 Axes>"
            ]
          },
          "metadata": {
            "tags": []
          }
        },
        {
          "output_type": "display_data",
          "data": {
            "image/png": "[encoded data removed]",
            "text/plain": [
              "<Figure size 432x288 with 1 Axes>"
            ]
          },
          "metadata": {
            "tags": []
          }
        }
      ]
    },
    {
      "cell_type": "code",
      "metadata": {
        "id": "rry9k-tdNwjO",
        "colab_type": "code",
        "outputId": "3abb2e37-e509-4388-b520-42e218114871",
        "colab": {
          "base_uri": "https://localhost:8080/",
          "height": 52
        }
      },
      "source": [
        "score = model.evaluate(x_test, y_test, verbose=0)\n",
        "print('Test loss:', score[0])a\n",
        "print('Test accuracy:', score[1])"
      ],
      "execution_count": 0,
      "outputs": [
        {
          "output_type": "stream",
          "text": [
            "Test loss: 0.2599422678419502\n",
            "Test accuracy: 0.9416346153846153\n"
          ],
          "name": "stdout"
        }
      ]
    }
  ]
}